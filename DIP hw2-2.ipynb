{
 "cells": [
  {
   "cell_type": "code",
   "execution_count": 2,
   "metadata": {},
   "outputs": [],
   "source": [
    "import cv2\n",
    "import numpy as np,sys"
   ]
  },
  {
   "cell_type": "code",
   "execution_count": 3,
   "metadata": {},
   "outputs": [],
   "source": [
    "A = cv2.imread('white.jpg')\n",
    "B = cv2.imread('black.jpg')"
   ]
  },
  {
   "cell_type": "code",
   "execution_count": 4,
   "metadata": {},
   "outputs": [],
   "source": [
    "#각 image에 대한 총 6단계의 gaussian pyramid 생성\n",
    "#down sampling을 하기 때문에 각 단계를 거듭할수록 resolution은 낮아짐\n",
    "G = A.copy()\n",
    "GaussianPyramid_A = [G]\n",
    "for i in xrange(6):\n",
    "    G = cv2.pyrDown(GaussianPyramid_A[i])\n",
    "    GaussianPyramid_A.append(G)\n",
    "\n",
    "G = B.copy()\n",
    "GaussianPyramid_B = [G]\n",
    "for i in xrange(6):\n",
    "    G = cv2.pyrDown(GaussianPyramid_B[i])\n",
    "    GaussianPyramid_B.append(G)"
   ]
  },
  {
   "cell_type": "code",
   "execution_count": 5,
   "metadata": {},
   "outputs": [],
   "source": [
    "#각 image의 gaussian pyramid로 laplacian pyramid 생성\n",
    "LaplacianPyramid_A = [GaussianPyramid_A[5]]\n",
    "for i in xrange(5,0,-1):\n",
    "    size=(GaussianPyramid_A[i-1].shape[1],GaussianPyramid_A[i-1].shape[0])\n",
    "    #i번째 추가된 gaussian pyramid를 up sampling\n",
    "    GE = cv2.pyrUp(GaussianPyramid_A[i],dstsize=size)\n",
    "    L = cv2.subtract(GaussianPyramid_A[i-1],GE)\n",
    "    LaplacianPyramid_A.append(L)\n",
    "\n",
    "LaplacianPyramid_B = [GaussianPyramid_B[5]]\n",
    "for i in xrange(5,0,-1):\n",
    "    size=(GaussianPyramid_B[i-1].shape[1],GaussianPyramid_B[i-1].shape[0])\n",
    "    GE = cv2.pyrUp(GaussianPyramid_B[i],dstsize=size)\n",
    "    L = cv2.subtract(GaussianPyramid_B[i-1],GE)\n",
    "    LaplacianPyramid_B.append(L)"
   ]
  },
  {
   "cell_type": "code",
   "execution_count": 6,
   "metadata": {},
   "outputs": [],
   "source": [
    "#laplacian pyramid에 mask를 적용해 blending\n",
    "LS = []\n",
    "for la,lb in zip(LaplacianPyramid_A,LaplacianPyramid_B):\n",
    "    rows,cols,dpt = la.shape\n",
    "    ls = np.hstack((la[:,0:cols/2], lb[:,cols/2:]))\n",
    "    LS.append(ls)"
   ]
  },
  {
   "cell_type": "code",
   "execution_count": 7,
   "metadata": {},
   "outputs": [],
   "source": [
    "#image blending된 가장 작은 image를 upsampling시키고 edge를 추가해 선명하게 만들기\n",
    "ls_ = LS[0]\n",
    "for i in xrange(1,6):\n",
    "    size=(LS[i].shape[1], LS[i].shape[0])\n",
    "    ls_ = cv2.pyrUp(ls_,dstsize=size)\n",
    "    ls_ = cv2.add(ls_, LS[i])\n",
    "    real = np.hstack((A[:,:cols/2],B[:,cols/2:]))"
   ]
  },
  {
   "cell_type": "code",
   "execution_count": 9,
   "metadata": {},
   "outputs": [
    {
     "data": {
      "text/plain": [
       "True"
      ]
     },
     "execution_count": 9,
     "metadata": {},
     "output_type": "execute_result"
    }
   ],
   "source": [
    "cv2.imwrite('GaussianPyramid_A[0].jpg',GaussianPyramid_A[0])\n",
    "cv2.imwrite('GaussianPyramid_A[1].jpg',GaussianPyramid_A[1])\n",
    "cv2.imwrite('GaussianPyramid_A[2].jpg',GaussianPyramid_A[2])\n",
    "cv2.imwrite('GaussianPyramid_A[3].jpg',GaussianPyramid_A[3])\n",
    "cv2.imwrite('GaussianPyramid_A[4].jpg',GaussianPyramid_A[4])\n",
    "cv2.imwrite('GaussianPyramid_A[5].jpg',GaussianPyramid_A[5])\n",
    "cv2.imwrite('GaussianPyramid_B[0].jpg',GaussianPyramid_B[0])\n",
    "cv2.imwrite('GaussianPyramid_B[1].jpg',GaussianPyramid_B[1])\n",
    "cv2.imwrite('GaussianPyramid_B[2].jpg',GaussianPyramid_B[2])\n",
    "cv2.imwrite('GaussianPyramid_B[3].jpg',GaussianPyramid_B[3])\n",
    "cv2.imwrite('GaussianPyramid_B[4].jpg',GaussianPyramid_B[4])\n",
    "cv2.imwrite('GaussianPyramid_B[5].jpg',GaussianPyramid_B[5])\n",
    "\n",
    "cv2.imwrite('LaplacianPyramid_A[1].jpg',LaplacianPyramid_A[1])\n",
    "cv2.imwrite('LaplacianPyramid_A[2].jpg',LaplacianPyramid_A[2])\n",
    "cv2.imwrite('LaplacianPyramid_A[3].jpg',LaplacianPyramid_A[3])\n",
    "cv2.imwrite('LaplacianPyramid_A[4].jpg',LaplacianPyramid_A[4])\n",
    "cv2.imwrite('LaplacianPyramid_A[5].jpg',LaplacianPyramid_A[5])\n",
    "cv2.imwrite('LaplacianPyramid_B[1].jpg',LaplacianPyramid_B[1])\n",
    "cv2.imwrite('LaplacianPyramid_B[2].jpg',LaplacianPyramid_B[2])\n",
    "cv2.imwrite('LaplacianPyramid_B[3].jpg',LaplacianPyramid_B[3])\n",
    "cv2.imwrite('LaplacianPyramid_B[4].jpg',LaplacianPyramid_B[4])\n",
    "cv2.imwrite('LaplacianPyramid_B[5].jpg',LaplacianPyramid_B[5])\n",
    "\n",
    "cv2.imwrite('Pyramid_blending2.jpg',ls_)\n",
    "cv2.imwrite('Direct_blending.jpg',real)"
   ]
  },
  {
   "cell_type": "code",
   "execution_count": null,
   "metadata": {},
   "outputs": [],
   "source": []
  }
 ],
 "metadata": {
  "kernelspec": {
   "display_name": "Python 2",
   "language": "python",
   "name": "python2"
  },
  "language_info": {
   "codemirror_mode": {
    "name": "ipython",
    "version": 2
   },
   "file_extension": ".py",
   "mimetype": "text/x-python",
   "name": "python",
   "nbconvert_exporter": "python",
   "pygments_lexer": "ipython2",
   "version": "2.7.14"
  }
 },
 "nbformat": 4,
 "nbformat_minor": 2
}
